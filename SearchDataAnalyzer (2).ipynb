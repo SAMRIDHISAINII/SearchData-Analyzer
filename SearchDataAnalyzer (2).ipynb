{
  "cells": [
    {
      "cell_type": "markdown",
      "metadata": {
        "id": "HHpZygvfC4A2"
      },
      "source": [
        "Installing libs "
      ]
    },
    {
      "cell_type": "code",
      "execution_count": null,
      "metadata": {
        "id": "hLYeitFzC4A3"
      },
      "outputs": [],
      "source": [
        "# Install the required libraries\n",
        "from IPython.display import clear_output\n",
        "try:\n",
        "  !pip install pystan\n",
        "  !pip install prophet\n",
        "  !pip install hvplot\n",
        "  !pip install holoviews\n",
        "except:\n",
        "  print('Error installing required dependencies')\n",
        "finally:\n",
        "  clear_output()\n",
        "  print('Dependencies installed successfully')"
      ]
    },
    {
      "cell_type": "code",
      "execution_count": null,
      "metadata": {
        "id": "sAFDXPjpC4A4"
      },
      "outputs": [],
      "source": [
        "# Import the required libraries and dependencies\n",
        "import pandas as pd\n",
        "import holoviews as hv\n",
        "import hvplot.pandas\n",
        "import datetime as dt\n",
        "import numpy as np\n",
        "\n",
        "from prophet import Prophet\n",
        "\n",
        "%matplotlib inline\n",
        "\n",
        "print('Required libraries and dependencies imported')"
      ]
    },
    {
      "cell_type": "markdown",
      "metadata": {
        "id": "XGWgT2MrC4A4"
      },
      "source": [
        " Step 1: Find Unusual Patterns in Hourly Google Search Traffic"
      ]
    },
    {
      "cell_type": "markdown",
      "metadata": {
        "id": "KskKebIGC4A5"
      },
      "source": [
        "#### Step 1: Read the search data into a DataFrame, and then slice the data to just the month of May 2020. (During this month, MercadoLibre released its quarterly financial results.) Use hvPlot to visualize the results. Do any unusual patterns exist?"
      ]
    },
    {
      "cell_type": "code",
      "execution_count": null,
      "metadata": {
        "id": "Jxzur89QC4A5"
      },
      "outputs": [],
      "source": [
        "# Upload the \"google_hourly_search_trends.csv\" file into Colab, then store in a Pandas DataFrame\n",
        "# Set the \"Date\" column as the Datetime Index.\n",
        "\n",
        "from google.colab import files\n",
        "uploaded = files.upload()\n",
        "\n",
        "df_mercado_trends = pd.read_csv('google_hourly_search_trends.csv', \n",
        "    infer_datetime_format=True, \n",
        "    parse_dates=True, \n",
        "    index_col='Date'   \n",
        "    )\n",
        "\n",
        "# Review the first and last five rows of the DataFrame\n",
        "print('Review the first five rows of the DataFrame')\n",
        "display(df_mercado_trends.head())\n",
        "\n",
        "print('Review the last five rows of the DataFrame')\n",
        "display(df_mercado_trends.tail())"
      ]
    },
    {
      "cell_type": "code",
      "execution_count": null,
      "metadata": {
        "id": "QCHbhMUQC4A5"
      },
      "outputs": [],
      "source": [
        "# Review the data types of the DataFrame using the info function\n",
        "print('Data Types of the columns in the DataFrame')\n",
        "df_mercado_trends.info()"
      ]
    },
    {
      "cell_type": "code",
      "execution_count": null,
      "metadata": {
        "id": "9EJcSCMKC4A5"
      },
      "outputs": [],
      "source": [
        "# Holoviews extension to render hvPlots in Colab\n",
        "hv.extension('bokeh')\n",
        "\n",
        "# Slice the DataFrame to just the month of May 2020\n",
        "df_may_2020 = df_mercado_trends.loc['2020-05']\n",
        "\n",
        "# Use hvPlot to visualize the data for May 2020\n",
        "df_may_2020.hvplot(\n",
        "    title='HvPlot - visualizing the Google hourly search trend data for May 2020',\n",
        "    hover_color = 'magenta'\n",
        "    )"
      ]
    },
    {
      "cell_type": "markdown",
      "metadata": {
        "id": "q-9HDL3oC4A6"
      },
      "source": [
        "#### Step 2: Calculate the total search traffic for the month, and then compare the value to the monthly median across all months. Did the Google search traffic increase during the month that MercadoLibre released its financial results?"
      ]
    },
    {
      "cell_type": "code",
      "execution_count": null,
      "metadata": {
        "id": "9F-DrUNRC4A6"
      },
      "outputs": [],
      "source": [
        "# Calculate the sum of the total search traffic for May 2020\n",
        "traffic_may_2020 = df_may_2020.sum()\n",
        "\n",
        "# View the traffic_may_2020 value\n",
        "traffic_may_2020"
      ]
    },
    {
      "cell_type": "code",
      "execution_count": null,
      "metadata": {
        "id": "Bq-E1xNSC4A6"
      },
      "outputs": [],
      "source": [
        "# Calculate the monthly median search traffic across all months \n",
        "# Group the DataFrame by index year and then index month, chain the sum and then the median functions\n",
        "groupby_levels = [df_mercado_trends.index.year, df_mercado_trends.index.month]\n",
        "median_monthly_traffic = df_mercado_trends.groupby(by = groupby_levels).sum().median()\n",
        "\n",
        "# View the median_monthly_traffic value\n",
        "print('View the monthly median search traffic across all months')\n",
        "median_monthly_traffic"
      ]
    },
    {
      "cell_type": "code",
      "execution_count": null,
      "metadata": {
        "id": "BTXSIfdzC4A7"
      },
      "outputs": [],
      "source": [
        "# Compare the seach traffic for the month of May 2020 to the overall monthly median value\n",
        "# Compare the seach traffic for the month of May 2020 to the overall monthly median value\n",
        "print(f'\\n Total search traffic for May 2020 is: {float(traffic_may_2020)}'\n",
        "      f'\\n\\n Median monthly search traffic across all months is: {float(median_monthly_traffic)}'\n",
        "      f'\\n\\n Percentage search traffic in May 2020 as compared all other months is: {round(float((traffic_may_2020 / median_monthly_traffic)-1)*100, 2)}%')\n"
      ]
    },
    {
      "cell_type": "code",
      "execution_count": null,
      "metadata": {
        "id": "eQEMaVu1C4A7"
      },
      "outputs": [],
      "source": [
        "# Holoviews extension to render hvPlots in Colab\n",
        "hv.extension('bokeh')\n",
        "\n",
        "# Group the hourly search data to plot (use hvPlot) the average traffic by the day of week \n",
        "groupby_weekdays = df_mercado_trends.index.weekday\n",
        "grouped_daily_mercado_trends = df_mercado_trends.groupby(groupby_weekdays).mean()\n",
        "grouped_daily_mercado_trends.hvplot(\n",
        "    title = 'Average traffic by the day of the week, grouped hourly',\n",
        "    color = 'green',\n",
        "    hover_color = 'magenta'\n",
        ")"
      ]
    },
    {
      "cell_type": "markdown",
      "metadata": {
        "id": "i8gSRivHC4A8"
      },
      "source": [
        "#### Step 2: Using hvPlot, visualize this traffic as a heatmap, referencing the `index.hour` as the x-axis and the `index.dayofweek` as the y-axis. Does any day-of-week effect that you observe concentrate in just a few hours of that day?"
      ]
    },
    {
      "cell_type": "code",
      "execution_count": null,
      "metadata": {
        "id": "iPWjfwi6C4A8"
      },
      "outputs": [],
      "source": [
        "# Holoviews extension to render hvPlots in Colab\n",
        "hv.extension('bokeh')\n",
        "\n",
        "# Use hvPlot to visualize the hour of the day and day of week search traffic as a heatmap.\n",
        "df_mercado_trends.hvplot.heatmap(title = 'Heatmap showing visualize the hour of the day and day of week search traffic', x= \"index.hour\", y=\"index.dayofweek\", C=\"Search Trends\", cmap= 'spectral').aggregate(function = np.sum)"
      ]
    },
    {
      "cell_type": "markdown",
      "metadata": {
        "id": "u3tJZzAmC4A8"
      },
      "source": [
        "##### Answer the following question:"
      ]
    },
    {
      "cell_type": "markdown",
      "metadata": {
        "id": "_3q6HPzgC4A8"
      },
      "source": [
        "**Question:** Does any day-of-week effect that you observe concentrate in just a few hours of that day?\n",
        "\n",
        "**Answer:**\n",
        "* Hour wise, we see higher concentrations especially during 12 - 01 AM and 10 - 11 PM. Means, search quite active for 4 hours. And this higher concentration of searches are pretty uniform from days 0 till day 5 of the week.\n",
        "* The above search pattern of hours/days shows that the MercadoLibre ecommerce website has online users mostly from non-Latin America region, possibly Europe or Mid-East Asia.\n",
        "\n"
      ]
    },
    {
      "cell_type": "markdown",
      "metadata": {
        "id": "U4ICBhTHC4A8"
      },
      "source": [
        "#### Step 3: Group the search data by the week of the year. Does the search traffic tend to increase during the winter holiday period (weeks 40 through 52)?"
      ]
    },
    {
      "cell_type": "code",
      "execution_count": null,
      "metadata": {
        "id": "VkfYl2IyC4A8"
      },
      "outputs": [],
      "source": [
        "# Holoviews extension to render hvPlots in Colab\n",
        "hv.extension('bokeh')\n",
        "\n",
        "# Group the hourly search data to plot (use hvPlot) the average traffic by the week of the year\n",
        "# The hourly search data is contained the DataFrame: df_mercado_trends\n",
        "groupby_weeks = df_mercado_trends.index.weekofyear\n",
        "grouped_weekly_mercado_trends = df_mercado_trends.groupby(groupby_weeks).mean()\n",
        "grouped_weekly_mercado_trends.hvplot(\n",
        "    hover_color = 'magenta',\n",
        "    color = 'blue',\n",
        "    title = 'Average search traffic by the week of the year'   \n",
        ")"
      ]
    },
    {
      "cell_type": "markdown",
      "metadata": {
        "id": "tJaa4LE3C4A9"
      },
      "source": [
        "#### Step 1: Read in and plot the stock price data. Concatenate the stock price data to the search data in a single DataFrame."
      ]
    },
    {
      "cell_type": "code",
      "execution_count": null,
      "metadata": {
        "id": "cdi6yVJZC4A9"
      },
      "outputs": [],
      "source": [
        "# Upload the \"mercado_stock_price.csv\" file into Colab, then store in a Pandas DataFrame\n",
        "# Set the \"date\" column as the Datetime Index.\n",
        "from google.colab import files\n",
        "uploaded = files.upload()\n",
        "\n",
        "df_mercado_stock = pd.read_csv(\n",
        "    'mercado_stock_price.csv', \n",
        "    infer_datetime_format = True, \n",
        "    parse_dates = True, \n",
        "    index_col ='date'   \n",
        ")\n",
        "\n",
        "# View the first and last five rows of the DataFrame\n",
        "print(f'View the first 5 rows of the DataFrame created from mercado_stock_price.csv')\n",
        "display(df_mercado_stock.head())\n",
        "\n",
        "print(f'View the last 5 rows of the DataFrame created from mercado_stock_price.csv')\n",
        "display(df_mercado_stock.tail())"
      ]
    },
    {
      "cell_type": "code",
      "execution_count": null,
      "metadata": {
        "id": "FrF5_Ei8C4A9"
      },
      "outputs": [],
      "source": [
        "# Holoviews extension to render hvPlots in Colab\n",
        "hv.extension('bokeh')\n",
        "\n",
        "# Use hvPlot to visualize the closing price of the df_mercado_stock DataFrame\n",
        "df_mercado_stock.hvplot(\n",
        "    color = 'green',\n",
        "    hover_color = 'magenta',\n",
        "    rot = 90,\n",
        "    title = 'Mercado stock closing price' \n",
        ")"
      ]
    },
    {
      "cell_type": "code",
      "execution_count": null,
      "metadata": {
        "id": "WA1gVQ83C4A9"
      },
      "outputs": [],
      "source": [
        "# Concatenate the df_mercado_stock DataFrame with the df_mercado_trends DataFrame\n",
        "# Concatenate the DataFrame by columns (axis=1), and drop and rows with only one column of data\n",
        "concat_df = pd.concat([df_mercado_stock, df_mercado_trends], axis=1)\n",
        "print('See what is the NaN column like')\n",
        "display(concat_df.head(10))\n",
        "\n",
        "mercado_stock_trends_df = concat_df.dropna()\n",
        "\n",
        "# View the first and last five rows of the DataFrame\n",
        "print('\\n View the first 5 rows of the concatenated mercado DataFrame')\n",
        "display(mercado_stock_trends_df.head(5))\n",
        "\n",
        "print('\\n View the last 5 rows of the concatenated mercado DataFrame')\n",
        "mercado_stock_trends_df.tail(5)"
      ]
    },
    {
      "cell_type": "markdown",
      "metadata": {
        "id": "XMXL78C-C4A-"
      },
      "source": [
        "#### Step 2: Market events emerged during the year of 2020 that many companies found difficult. But, after the initial shock to global financial markets, new customers and revenue increased for e-commerce platforms. Slice the data to just the first half of 2020 (`2020-01` to `2020-06` in the DataFrame), and then use hvPlot to plot the data. Do both time series indicate a common trend that’s consistent with this narrative?"
      ]
    },
    {
      "cell_type": "code",
      "execution_count": null,
      "metadata": {
        "id": "E6MBVTSZC4A-"
      },
      "outputs": [],
      "source": [
        "# For the combined dataframe, slice to just the first half of 2020 (2020-01 through 2020-06) \n",
        "first_half_2020 = mercado_stock_trends_df.loc['2020-01':'2020-06']\n",
        "\n",
        "# View the first and last five rows of first_half_2020 DataFrame\n",
        "print('Sliced view of the first 5 rows of first_half_2020 DataFrame')\n",
        "display(first_half_2020.head(5))\n",
        "\n",
        "print('\\n Sliced view of the first 5 rows of first_half_2020 DataFrame')\n",
        "display(first_half_2020.tail(5))"
      ]
    },
    {
      "cell_type": "code",
      "execution_count": null,
      "metadata": {
        "id": "5L41ofkkC4A-"
      },
      "outputs": [],
      "source": [
        "# Holoviews extension to render hvPlots in Colab\n",
        "hv.extension('bokeh')\n",
        "\n",
        "# Use hvPlot to visualize the close and Search Trends data\n",
        "# Plot each column on a separate axes using the following syntax\n",
        "# `hvplot(shared_axes=False, subplots=True).cols(1)`\n",
        "print('Plot each column (close and search trends) on a separate axes')\n",
        "first_half_2020.hvplot(color = 'blue', shared_axes = False, subplots = True, rot = 45).cols(1)"
      ]
    },
    {
      "cell_type": "markdown",
      "metadata": {
        "id": "nkkloEzAC4A-"
      },
      "source": [
        "##### Answer the following question:"
      ]
    },
    {
      "cell_type": "markdown",
      "metadata": {
        "id": "kUW636iNC4A-"
      },
      "source": [
        "**Question:** Do both time series indicate a common trend that’s consistent with this narrative?\n",
        "\n",
        "**Answer:**\n",
        "* Yes, there is a common trend between the close price and volume of search trends during the first half of the year. The drop in close price is also visible between the period of 2020-02-25 and 2020-03-12 across both the plots of close vs. search trends."
      ]
    },
    {
      "cell_type": "markdown",
      "metadata": {
        "id": "KUhEqWpEC4A-"
      },
      "source": [
        "#### Step 3: Create a new column in the DataFrame named “Lagged Search Trends” that offsets, or shifts, the search traffic by one hour. Create two additional columns:\n",
        "\n",
        "* “Stock Volatility”, which holds an exponentially weighted four-hour rolling average of the company’s stock volatility\n",
        "\n",
        "* “Hourly Stock Return”, which holds the percent change of the company's stock price on an hourly basis\n"
      ]
    },
    {
      "cell_type": "code",
      "execution_count": null,
      "metadata": {
        "id": "8MfqE9LyC4A_"
      },
      "outputs": [],
      "source": [
        "# Create a new column in the mercado_stock_trends_df DataFrame called Lagged Search Trends\n",
        "# This column should shift the Search Trends information by one hour\n",
        "mercado_stock_trends_df['Lagged Search Trends'] = mercado_stock_trends_df['Search Trends'].shift(periods = 1)\n",
        "\n",
        "print('View the newly added column Lagged Search Trends after a period shift of 1 hour')\n",
        "display(mercado_stock_trends_df.head(10))"
      ]
    },
    {
      "cell_type": "code",
      "execution_count": null,
      "metadata": {
        "id": "W4wJGzS_C4A_"
      },
      "outputs": [],
      "source": [
        "# Create a new column in the mercado_stock_trends_df DataFrame called Stock Volatility\n",
        "# This column should calculate the standard deviation of the closing stock price return data over a 4 period rolling window\n",
        "\n",
        "mercado_stock_trends_df['Stock Volatility'] = mercado_stock_trends_df['close'].pct_change().rolling(window = 4).std()\n",
        "\n",
        "print('View the calculated standard deviation of the closing stock price return data over a 4 period rolling window in a new column Stock Volatility')\n",
        "display(mercado_stock_trends_df.head(10))"
      ]
    },
    {
      "cell_type": "code",
      "execution_count": null,
      "metadata": {
        "id": "GSpDTC1IC4A_"
      },
      "outputs": [],
      "source": [
        "# Holoviews extension to render hvPlots in Colab\n",
        "hv.extension('bokeh')\n",
        "\n",
        "# Use hvPlot to visualize the stock volatility\n",
        "mercado_stock_trends_df['Stock Volatility'].hvplot(\n",
        "    color = 'green',\n",
        "    hover_color = 'blue',\n",
        "    rot = 45\n",
        ")"
      ]
    },
    {
      "cell_type": "markdown",
      "metadata": {
        "id": "FX_EpaofC4A_"
      },
      "source": [
        "**Solution Note:** Note how volatility spiked, and tended to stay high, during the first half of 2020. This is a common characteristic of volatility in stock returns worldwide: high volatility days tend to be followed by yet more high volatility days. When it rains, it pours."
      ]
    },
    {
      "cell_type": "code",
      "execution_count": null,
      "metadata": {
        "id": "odiHcKs-C4A_"
      },
      "outputs": [],
      "source": [
        "# Create a new column in the mercado_stock_trends_df DataFrame called Hourly Stock Return\n",
        "# This column should calculate hourly return percentage of the closing price\n",
        "mercado_stock_trends_df['Hourly Stock Return'] = mercado_stock_trends_df['close'].pct_change()"
      ]
    },
    {
      "cell_type": "code",
      "execution_count": null,
      "metadata": {
        "id": "p51wnp0AC4A_"
      },
      "outputs": [],
      "source": [
        "# View the first and last five rows of the mercado_stock_trends_df DataFrame\n",
        "print('Hourly pct_change of the closing price in a new column Hourly Stock Return')\n",
        "display(mercado_stock_trends_df.head())\n",
        "\n",
        "display(mercado_stock_trends_df.head())"
      ]
    },
    {
      "cell_type": "markdown",
      "metadata": {
        "id": "2dTglGIhC4A_"
      },
      "source": [
        "#### Step 4: Review the time series correlation, and then answer the following question: Does a predictable relationship exist between the lagged search traffic and the stock volatility or between the lagged search traffic and the stock price returns?"
      ]
    },
    {
      "cell_type": "code",
      "execution_count": null,
      "metadata": {
        "id": "O4RHEoUUC4A_"
      },
      "outputs": [],
      "source": [
        "# Construct correlation table of Stock Volatility, Lagged Search Trends, and Hourly Stock Return\n",
        "print('Correlation table of Stock Volatility, Lagged Search Trends, and Hourly Stock Return values')\n",
        "mercado_stock_trends_df[['Stock Volatility', 'Lagged Search Trends', 'Hourly Stock Return']].corr()"
      ]
    },
    {
      "cell_type": "markdown",
      "metadata": {
        "id": "BmpHMV4nC4BA"
      },
      "source": [
        "#### Step 1: Set up the Google search data for a Prophet forecasting model."
      ]
    },
    {
      "cell_type": "code",
      "execution_count": null,
      "metadata": {
        "id": "d6fKpMOxC4BA"
      },
      "outputs": [],
      "source": [
        "# Using the df_mercado_trends DataFrame, reset the index so the date information is no longer the index\n",
        "mercado_prophet_df = df_mercado_trends.reset_index()\n",
        "\n",
        "# Label the columns ds and y so that the syntax is recognized by Prophet\n",
        "mercado_prophet_df.columns = ['ds', 'y']\n",
        "\n",
        "# Drop an NaN values from the prophet_df DataFrame\n",
        "mercado_prophet_df = mercado_prophet_df.dropna()\n",
        "\n",
        "# View the first and last five rows of the mercado_prophet_df DataFrame\n",
        "print('View the first and last 5 rows of the mercado_prophet_df DataFrame after resetting the date index')\n",
        "display(mercado_prophet_df.head())\n",
        "\n",
        "display(mercado_prophet_df.tail())"
      ]
    },
    {
      "cell_type": "code",
      "execution_count": null,
      "metadata": {
        "id": "0Yu85v2cC4BA"
      },
      "outputs": [],
      "source": [
        "# Call the Prophet function, store as an object\n",
        "model_mercado_trends = Prophet()"
      ]
    },
    {
      "cell_type": "code",
      "execution_count": null,
      "metadata": {
        "id": "Ns2vn2P0C4BA"
      },
      "outputs": [],
      "source": [
        "# Fit the time-series model.\n",
        "model_mercado_trends.fit(mercado_prophet_df)"
      ]
    },
    {
      "cell_type": "code",
      "execution_count": null,
      "metadata": {
        "id": "eOmxUgpTC4BA"
      },
      "outputs": [],
      "source": [
        "# Create a future dataframe to hold predictions\n",
        "# Make the prediction go out as far as 2000 hours (approx 80 days)\n",
        "future_mercado_trends = model_mercado_trends.make_future_dataframe(periods = 2000, freq = 'H')\n",
        "\n",
        "# View the last five rows of the future_mercado_trends DataFrame\n",
        "print('View the last 5 rows of the future_mercado_trends DataFrame')\n",
        "future_mercado_trends.tail()\n"
      ]
    },
    {
      "cell_type": "code",
      "execution_count": null,
      "metadata": {
        "id": "SiIyYYZxC4BA"
      },
      "outputs": [],
      "source": [
        "# Make the predictions for the trend data using the future_mercado_trends DataFrame\n",
        "forecast_mercado_trends = model_mercado_trends.predict(future_mercado_trends)\n",
        "\n",
        "# Display the first five rows of the forecast_mercado_trends DataFrame\n",
        "print('Display the first five rows of the forecast_mercado_trends DataFrame')\n",
        "display(forecast_mercado_trends.head())\n",
        "\n",
        "display(forecast_mercado_trends.tail())"
      ]
    },
    {
      "cell_type": "markdown",
      "metadata": {
        "id": "hSQfhQDtC4BA"
      },
      "source": [
        "#### Step 2: After estimating the model, plot the forecast. How's the near-term forecast for the popularity of MercadoLibre?"
      ]
    },
    {
      "cell_type": "code",
      "execution_count": null,
      "metadata": {
        "id": "qZyToWM5C4BB"
      },
      "outputs": [],
      "source": [
        "# Plot the Prophet predictions for the Mercado trends data\n",
        "model_mercado_trends.plot(forecast_mercado_trends)"
      ]
    },
    {
      "cell_type": "markdown",
      "metadata": {
        "id": "LQwN_wv6C4BB"
      },
      "source": [
        "##### Answer the following question:"
      ]
    },
    {
      "cell_type": "code",
      "execution_count": null,
      "metadata": {
        "id": "c4t_VoOcC4BB"
      },
      "outputs": [],
      "source": [
        "# Set the index in the forecast_mercado_trends DataFrame to the ds datetime column\n",
        "forecast_mercado_trends = forecast_mercado_trends.set_index('ds')\n",
        "\n",
        "# View the only the yhat,yhat_lower and yhat_upper columns from the DataFrame\n",
        "forecast_mercado_trends[['yhat', 'yhat_lower', 'yhat_upper']]"
      ]
    },
    {
      "cell_type": "markdown",
      "metadata": {
        "id": "k0NlOUBUC4BB"
      },
      "source": [
        "Solutions Note: `yhat` represents the most likely (average) forecast, whereas `yhat_lower` and `yhat_upper` represents the worst and best case prediction (based on what are known as 95% confidence intervals)."
      ]
    },
    {
      "cell_type": "code",
      "execution_count": null,
      "metadata": {
        "id": "XeGO2vKLC4BB"
      },
      "outputs": [],
      "source": [
        "# Holoviews extension to render hvPlots in Colab\n",
        "hv.extension('bokeh')\n",
        "\n",
        "# From the forecast_mercado_trends DataFrame, use hvPlot to visualize\n",
        "#  the yhat, yhat_lower, and yhat_upper columns over the last 2000 hours\n",
        "print('Visualize the Mercado trends from the prediction dataset \\n')\n",
        "forecast_mercado_trends[['yhat', 'yhat_lower', 'yhat_upper']].iloc[-200:,:].hvplot(\n",
        "    title = 'Forecast - Mercado Prediction Trends of yhat, yhat lower, and yhat upper',\n",
        "    hover_color = 'magenta',\n",
        "    rot = 45\n",
        "    )"
      ]
    },
    {
      "cell_type": "code",
      "execution_count": null,
      "metadata": {
        "id": "SEASPrROC4BB"
      },
      "outputs": [],
      "source": [
        "# Reset the index in the forecast_mercado_trends DataFrame\n",
        "forecast_mercado_trends = forecast_mercado_trends.reset_index()\n",
        "\n",
        "# Use the plot_components function to visualize the forecast results \n",
        "# for the forecast_canada DataFrame\n",
        "print('Plot the individual time series components of the model \\n')\n",
        "figures_mercado_trends = model_mercado_trends.plot_components(forecast_mercado_trends)"
      ]
    },
    {
      "cell_type": "markdown",
      "metadata": {
        "id": "cHkMJK7qC4BB"
      },
      "source": [
        "##### Answer the following questions:"
      ]
    },
    {
      "cell_type": "markdown",
      "metadata": {
        "id": "hrByPw4_C4BB"
      },
      "source": [
        "**Question:** What time of day exhibits the greatest popularity?\n",
        "\n",
        "**Answer:**\n",
        "* The late evening hours around 11 PM and 12 AM exhibits the greatest popularity\n",
        "* The increase in popularity trend begins after 9 AM."
      ]
    },
    {
      "cell_type": "markdown",
      "metadata": {
        "id": "r0yRnl-dC4BB"
      },
      "source": [
        "**Question:** Which day of week gets the most search traffic? \n",
        "   \n",
        "**Answer:**\n",
        "* It's Tuesday"
      ]
    },
    {
      "cell_type": "markdown",
      "metadata": {
        "id": "XyU9KoiPC4BB"
      },
      "source": [
        "**Question:** What's the lowest point for search traffic in the calendar year?\n",
        "\n",
        "**Answer:**\n",
        "* It's towards September last week and October month\n"
      ]
    },
    {
      "cell_type": "markdown",
      "metadata": {
        "id": "kCSJEmRqC4BC"
      },
      "source": [
        "#### Step 1: Read in the daily historical sales (that is, revenue) figures, and then apply a Prophet model to the data."
      ]
    },
    {
      "cell_type": "code",
      "execution_count": null,
      "metadata": {
        "id": "cFiafxl8C4BC"
      },
      "outputs": [],
      "source": [
        "# Upload the \"mercado_daily_revenue.csv\" file into Colab, then store in a Pandas DataFrame\n",
        "# Set the \"date\" column as the DatetimeIndex\n",
        "# Sales are quoted in millions of US dollars\n",
        "from google.colab import files\n",
        "uploaded = files.upload()\n",
        "\n",
        "df_mercado_sales = pd.read_csv(\n",
        "    'mercado_daily_revenue.csv', \n",
        "    infer_datetime_format=True, \n",
        "    parse_dates=True, \n",
        "    index_col='date'   \n",
        "    )\n",
        "\n",
        "# Review the DataFrame\n",
        "df_mercado_sales"
      ]
    },
    {
      "cell_type": "code",
      "execution_count": null,
      "metadata": {
        "id": "iqjX0PBZC4BC"
      },
      "outputs": [],
      "source": [
        "# Holoviews extension to render hvPlots in Colab\n",
        "hv.extension('bokeh')\n",
        "\n",
        "# Use hvPlot to visualize the daily sales figures \n",
        "df_mercado_sales.hvplot(\n",
        "    title = 'Mercado daily sales revenue',\n",
        "    color = 'gray',\n",
        "    hover_color = 'green'\n",
        ")"
      ]
    },
    {
      "cell_type": "code",
      "execution_count": null,
      "metadata": {
        "id": "EWr4L8PeC4BC"
      },
      "outputs": [],
      "source": [
        "# Apply a Facebook Prophet model to the data.\n",
        "\n",
        "# Set up the dataframe in the neccessary format:\n",
        "# Reset the index so that date becomes a column in the DataFrame\n",
        "mercado_sales_prophet_df = df_mercado_sales.reset_index()\n",
        "\n",
        "# Adjust the columns names to the Prophet syntax\n",
        "mercado_sales_prophet_df.columns = ['ds', 'y']\n",
        "\n",
        "# Visualize the DataFrame\n",
        "print('Date ds column index reset')\n",
        "mercado_sales_prophet_df"
      ]
    },
    {
      "cell_type": "code",
      "execution_count": null,
      "metadata": {
        "id": "ymF5JKxvC4BC"
      },
      "outputs": [],
      "source": [
        "# Create the model\n",
        "mercado_sales_prophet_model = Prophet()\n",
        "\n",
        "# Fit the model\n",
        "mercado_sales_prophet_model.fit(mercado_sales_prophet_df)"
      ]
    },
    {
      "cell_type": "code",
      "execution_count": null,
      "metadata": {
        "id": "g3hFpjnTC4BC"
      },
      "outputs": [],
      "source": [
        "# Predict sales for 90 days (1 quarter) out into the future.\n",
        "\n",
        "# Start by making a future dataframe\n",
        "mercado_sales_prophet_future = mercado_sales_prophet_model.make_future_dataframe(periods = 90, freq = 'D')\n",
        "\n",
        "# Display the last five rows of the future DataFrame\n",
        "display(mercado_sales_prophet_future.tail())\n"
      ]
    },
    {
      "cell_type": "code",
      "execution_count": null,
      "metadata": {
        "id": "ZxEXvk08C4BC"
      },
      "outputs": [],
      "source": [
        "# Make predictions for the sales each day over the next quarter\n",
        "mercado_sales_prophet_forecast = mercado_sales_prophet_model.predict(mercado_sales_prophet_future)\n",
        "\n",
        "# Display the first 5 rows of the resulting DataFrame\n",
        "mercado_sales_prophet_forecast.head()\n"
      ]
    },
    {
      "cell_type": "code",
      "execution_count": null,
      "metadata": {
        "id": "jsi6j2nBC4BC"
      },
      "outputs": [],
      "source": [
        "# Use the plot_components function to analyze seasonal patterns in the company's revenue\n",
        "mercado_sales_prophet_model.plot_components(mercado_sales_prophet_forecast)"
      ]
    },
    {
      "cell_type": "markdown",
      "metadata": {
        "id": "yq7e-_NXC4BC"
      },
      "source": [
        "##### Answer the following question:"
      ]
    },
    {
      "cell_type": "markdown",
      "metadata": {
        "id": "NL-0UgjeC4BD"
      },
      "source": [
        "**Question:** For example, what are the peak revenue days? (Mondays? Fridays? Something else?)\n",
        "\n",
        "**Answer:**\n",
        "* Wednesday shows the highest peak in the revenue. Saturday shows the bottom point in the revenue."
      ]
    },
    {
      "cell_type": "markdown",
      "metadata": {
        "id": "OBx6aBrlC4BD"
      },
      "source": [
        "#### Step 3: Produce a sales forecast for the finance group. Give them a number for the expected total sales in the next quarter. Include the best- and worst-case scenarios to help them make better plans."
      ]
    },
    {
      "cell_type": "code",
      "execution_count": null,
      "metadata": {
        "id": "LKQXZOgMC4BD"
      },
      "outputs": [],
      "source": [
        "# Plot the predictions for the Mercado sales\n",
        "# Holoviews extension to render hvPlots in Colab\n",
        "hv.extension('bokeh')\n",
        "\n",
        "forecast_mercado_sales= mercado_sales_prophet_forecast.set_index('ds')\n",
        "forecast_mercado_sales[['yhat', 'yhat_lower', 'yhat_upper']].iloc[-90:,:].hvplot(\n",
        "    hover_color = 'magenta',\n",
        "    title = 'Predictions for Mercado Sales'\n",
        ")"
      ]
    }
  ],
  "metadata": {
    "interpreter": {
      "hash": "19e8989aa3860df68a863f1588d3224aff2bcab6c36efaf4301abe79e1a8b3d9"
    },
    "kernelspec": {
      "display_name": "Python 3.7.7 64-bit (conda)",
      "name": "python3"
    },
    "language_info": {
      "name": "python",
      "version": ""
    },
    "colab": {
      "provenance": []
    }
  },
  "nbformat": 4,
  "nbformat_minor": 0
}